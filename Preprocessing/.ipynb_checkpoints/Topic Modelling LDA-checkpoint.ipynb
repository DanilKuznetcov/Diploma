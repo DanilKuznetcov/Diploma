{
 "cells": [
  {
   "cell_type": "code",
   "execution_count": 1,
   "metadata": {},
   "outputs": [],
   "source": [
    "import numpy as np\n",
    "import pandas as pd\n",
    "import re\n",
    "import warnings\n",
    "warnings.filterwarnings('ignore')\n",
    "\n",
    "import nltk\n",
    "from nltk.corpus import stopwords  \n",
    "from nltk import word_tokenize \n",
    "from nltk.stem import WordNetLemmatizer  \n",
    "\n",
    "import matplotlib.pyplot as plt\n",
    "\n",
    "from sklearn.feature_extraction.text import TfidfVectorizer"
   ]
  },
  {
   "cell_type": "markdown",
   "metadata": {},
   "source": [
    "# Import StopWords and Packets"
   ]
  },
  {
   "cell_type": "code",
   "execution_count": 2,
   "metadata": {},
   "outputs": [
    {
     "data": {
      "text/plain": [
       "333"
      ]
     },
     "execution_count": 2,
     "metadata": {},
     "output_type": "execute_result"
    }
   ],
   "source": [
    "eng_stop_words=list(nltk.corpus.stopwords.words('russian'))\n",
    "rus_stop_words=list(nltk.corpus.stopwords.words('english'))\n",
    "stop_words = eng_stop_words + rus_stop_words + ['vk', 'com', 'http']\n",
    "len(stop_words)"
   ]
  },
  {
   "cell_type": "code",
   "execution_count": 3,
   "metadata": {},
   "outputs": [
    {
     "name": "stderr",
     "output_type": "stream",
     "text": [
      "[nltk_data] Downloading package stopwords to /home/danil/nltk_data...\n",
      "[nltk_data]   Package stopwords is already up-to-date!\n",
      "[nltk_data] Downloading package punkt to /home/danil/nltk_data...\n",
      "[nltk_data]   Package punkt is already up-to-date!\n",
      "[nltk_data] Downloading package wordnet to /home/danil/nltk_data...\n",
      "[nltk_data]   Package wordnet is already up-to-date!\n",
      "[nltk_data] Downloading package omw-1.4 to /home/danil/nltk_data...\n",
      "[nltk_data]   Package omw-1.4 is already up-to-date!\n"
     ]
    },
    {
     "data": {
      "text/plain": [
       "True"
      ]
     },
     "execution_count": 3,
     "metadata": {},
     "output_type": "execute_result"
    }
   ],
   "source": [
    "nltk.download('stopwords')\n",
    "nltk.download('punkt')\n",
    "nltk.download('wordnet')\n",
    "nltk.download('omw-1.4')"
   ]
  },
  {
   "cell_type": "markdown",
   "metadata": {},
   "source": [
    "# Get data"
   ]
  },
  {
   "cell_type": "code",
   "execution_count": 4,
   "metadata": {},
   "outputs": [
    {
     "data": {
      "text/html": [
       "<div>\n",
       "<style scoped>\n",
       "    .dataframe tbody tr th:only-of-type {\n",
       "        vertical-align: middle;\n",
       "    }\n",
       "\n",
       "    .dataframe tbody tr th {\n",
       "        vertical-align: top;\n",
       "    }\n",
       "\n",
       "    .dataframe thead th {\n",
       "        text-align: right;\n",
       "    }\n",
       "</style>\n",
       "<table border=\"1\" class=\"dataframe\">\n",
       "  <thead>\n",
       "    <tr style=\"text-align: right;\">\n",
       "      <th></th>\n",
       "      <th>posts</th>\n",
       "    </tr>\n",
       "  </thead>\n",
       "  <tbody>\n",
       "    <tr>\n",
       "      <th>0</th>\n",
       "      <td>Despite a nationwide crackdown on cryptocurren...</td>\n",
       "    </tr>\n",
       "    <tr>\n",
       "      <th>1</th>\n",
       "      <td>HEY!! \\nFriends I think that maybe you don't h...</td>\n",
       "    </tr>\n",
       "    <tr>\n",
       "      <th>2</th>\n",
       "      <td>ТОТАЛ на 1ч тф. Отражение рынка. Шанс для сдел...</td>\n",
       "    </tr>\n",
       "    <tr>\n",
       "      <th>3</th>\n",
       "      <td>[club141595830|CRYPTO COUNTER MUSIC™]</td>\n",
       "    </tr>\n",
       "    <tr>\n",
       "      <th>4</th>\n",
       "      <td>🍊🐸🔶  Investitori odustaju od kriptovaluta u re...</td>\n",
       "    </tr>\n",
       "    <tr>\n",
       "      <th>...</th>\n",
       "      <td>...</td>\n",
       "    </tr>\n",
       "    <tr>\n",
       "      <th>2996</th>\n",
       "      <td>Нидерланды используют тепло от майнеров для вы...</td>\n",
       "    </tr>\n",
       "    <tr>\n",
       "      <th>2997</th>\n",
       "      <td>Ключевые новости криптомайнинга\\n\\nИзвестный ж...</td>\n",
       "    </tr>\n",
       "    <tr>\n",
       "      <th>2998</th>\n",
       "      <td>Биткоин-майнер TeraWulf привлек $10 млн для по...</td>\n",
       "    </tr>\n",
       "    <tr>\n",
       "      <th>2999</th>\n",
       "      <td>` Дело добровольное. Депутаты кардинально пере...</td>\n",
       "    </tr>\n",
       "    <tr>\n",
       "      <th>3000</th>\n",
       "      <td>Швейцарский McDonald's начал принимать платежи...</td>\n",
       "    </tr>\n",
       "  </tbody>\n",
       "</table>\n",
       "<p>3001 rows × 1 columns</p>\n",
       "</div>"
      ],
      "text/plain": [
       "                                                  posts\n",
       "0     Despite a nationwide crackdown on cryptocurren...\n",
       "1     HEY!! \\nFriends I think that maybe you don't h...\n",
       "2     ТОТАЛ на 1ч тф. Отражение рынка. Шанс для сдел...\n",
       "3                 [club141595830|CRYPTO COUNTER MUSIC™]\n",
       "4     🍊🐸🔶  Investitori odustaju od kriptovaluta u re...\n",
       "...                                                 ...\n",
       "2996  Нидерланды используют тепло от майнеров для вы...\n",
       "2997  Ключевые новости криптомайнинга\\n\\nИзвестный ж...\n",
       "2998  Биткоин-майнер TeraWulf привлек $10 млн для по...\n",
       "2999  ` Дело добровольное. Депутаты кардинально пере...\n",
       "3000  Швейцарский McDonald's начал принимать платежи...\n",
       "\n",
       "[3001 rows x 1 columns]"
      ]
     },
     "execution_count": 4,
     "metadata": {},
     "output_type": "execute_result"
    }
   ],
   "source": [
    "data=pd.read_csv(r'crypto_2021-13-15.csv')\n",
    "data = pd.DataFrame(data=data['text'])\n",
    "data.rename(columns={'text': 'posts'}, inplace=True)\n",
    "data"
   ]
  },
  {
   "cell_type": "markdown",
   "metadata": {},
   "source": [
    "# Count unique posts"
   ]
  },
  {
   "cell_type": "code",
   "execution_count": 5,
   "metadata": {},
   "outputs": [
    {
     "data": {
      "text/plain": [
       "2042"
      ]
     },
     "execution_count": 5,
     "metadata": {},
     "output_type": "execute_result"
    }
   ],
   "source": [
    "len(data['posts'].unique())"
   ]
  },
  {
   "cell_type": "code",
   "execution_count": 6,
   "metadata": {},
   "outputs": [],
   "source": [
    "data = pd.DataFrame({'dupl' : data.groupby( [ \"posts\"] ).size()}).reset_index()"
   ]
  },
  {
   "cell_type": "code",
   "execution_count": 7,
   "metadata": {},
   "outputs": [
    {
     "data": {
      "text/plain": [
       "array([  1,   2,   3,   4,   5,   6,   7,   8,  10,  11,  12,  16,  30,\n",
       "       226, 285])"
      ]
     },
     "execution_count": 7,
     "metadata": {},
     "output_type": "execute_result"
    }
   ],
   "source": [
    "# data.groupby(['posts']).mean()\n",
    "# data = pd.DataFrame(data.groupby(['posts']).size())\n",
    "# data = data.groupby(['posts'])['posts'].count().reset_index()\n",
    "\n",
    "np.unique(data.dupl)\n",
    "# data"
   ]
  },
  {
   "cell_type": "code",
   "execution_count": 8,
   "metadata": {},
   "outputs": [
    {
     "data": {
      "text/html": [
       "<div>\n",
       "<style scoped>\n",
       "    .dataframe tbody tr th:only-of-type {\n",
       "        vertical-align: middle;\n",
       "    }\n",
       "\n",
       "    .dataframe tbody tr th {\n",
       "        vertical-align: top;\n",
       "    }\n",
       "\n",
       "    .dataframe thead th {\n",
       "        text-align: right;\n",
       "    }\n",
       "</style>\n",
       "<table border=\"1\" class=\"dataframe\">\n",
       "  <thead>\n",
       "    <tr style=\"text-align: right;\">\n",
       "      <th></th>\n",
       "      <th>posts</th>\n",
       "      <th>dupl</th>\n",
       "    </tr>\n",
       "  </thead>\n",
       "  <tbody>\n",
       "    <tr>\n",
       "      <th>897</th>\n",
       "      <td>Голландский предприниматель довольно оригиналь...</td>\n",
       "      <td>285</td>\n",
       "    </tr>\n",
       "    <tr>\n",
       "      <th>1900</th>\n",
       "      <td>️#биткойн #биткоин #телеграм #ETH #usdt #ether...</td>\n",
       "      <td>226</td>\n",
       "    </tr>\n",
       "    <tr>\n",
       "      <th>494</th>\n",
       "      <td>UYHRTF^^ 75982-35235-72930-57823-950*** Часть ...</td>\n",
       "      <td>30</td>\n",
       "    </tr>\n",
       "    <tr>\n",
       "      <th>2003</th>\n",
       "      <td>🔥Халява от Binance\\n\\nЗаходим в приложение, ск...</td>\n",
       "      <td>16</td>\n",
       "    </tr>\n",
       "    <tr>\n",
       "      <th>292</th>\n",
       "      <td>He is accused of \"orchestrating a scheme\" to d...</td>\n",
       "      <td>12</td>\n",
       "    </tr>\n",
       "    <tr>\n",
       "      <th>...</th>\n",
       "      <td>...</td>\n",
       "      <td>...</td>\n",
       "    </tr>\n",
       "    <tr>\n",
       "      <th>697</th>\n",
       "      <td>Алиса Евсеева Нормализоваться vk.com/id3247461...</td>\n",
       "      <td>1</td>\n",
       "    </tr>\n",
       "    <tr>\n",
       "      <th>696</th>\n",
       "      <td>Алина Таржанова Земля vk.com/maria.troshina85 ...</td>\n",
       "      <td>1</td>\n",
       "    </tr>\n",
       "    <tr>\n",
       "      <th>695</th>\n",
       "      <td>Александр Самойлов vk.com/id362206504 vk.com/i...</td>\n",
       "      <td>1</td>\n",
       "    </tr>\n",
       "    <tr>\n",
       "      <th>694</th>\n",
       "      <td>Актуальный сервис — Бандеролька ➡https://vk.cc...</td>\n",
       "      <td>1</td>\n",
       "    </tr>\n",
       "    <tr>\n",
       "      <th>2041</th>\n",
       "      <td>🪙КУРСЫ КРИПТОВАЛЮТ\\n13.12.2022</td>\n",
       "      <td>1</td>\n",
       "    </tr>\n",
       "  </tbody>\n",
       "</table>\n",
       "<p>2042 rows × 2 columns</p>\n",
       "</div>"
      ],
      "text/plain": [
       "                                                  posts  dupl\n",
       "897   Голландский предприниматель довольно оригиналь...   285\n",
       "1900  ️#биткойн #биткоин #телеграм #ETH #usdt #ether...   226\n",
       "494   UYHRTF^^ 75982-35235-72930-57823-950*** Часть ...    30\n",
       "2003  🔥Халява от Binance\\n\\nЗаходим в приложение, ск...    16\n",
       "292   He is accused of \"orchestrating a scheme\" to d...    12\n",
       "...                                                 ...   ...\n",
       "697   Алиса Евсеева Нормализоваться vk.com/id3247461...     1\n",
       "696   Алина Таржанова Земля vk.com/maria.troshina85 ...     1\n",
       "695   Александр Самойлов vk.com/id362206504 vk.com/i...     1\n",
       "694   Актуальный сервис — Бандеролька ➡https://vk.cc...     1\n",
       "2041                     🪙КУРСЫ КРИПТОВАЛЮТ\\n13.12.2022     1\n",
       "\n",
       "[2042 rows x 2 columns]"
      ]
     },
     "execution_count": 8,
     "metadata": {},
     "output_type": "execute_result"
    }
   ],
   "source": [
    "data.sort_values(by='dupl', ascending=False)"
   ]
  },
  {
   "cell_type": "markdown",
   "metadata": {},
   "source": [
    "# Count emojis"
   ]
  },
  {
   "cell_type": "code",
   "execution_count": 9,
   "metadata": {},
   "outputs": [
    {
     "data": {
      "text/html": [
       "<div>\n",
       "<style scoped>\n",
       "    .dataframe tbody tr th:only-of-type {\n",
       "        vertical-align: middle;\n",
       "    }\n",
       "\n",
       "    .dataframe tbody tr th {\n",
       "        vertical-align: top;\n",
       "    }\n",
       "\n",
       "    .dataframe thead th {\n",
       "        text-align: right;\n",
       "    }\n",
       "</style>\n",
       "<table border=\"1\" class=\"dataframe\">\n",
       "  <thead>\n",
       "    <tr style=\"text-align: right;\">\n",
       "      <th></th>\n",
       "      <th>posts</th>\n",
       "      <th>dupl</th>\n",
       "      <th>emoji</th>\n",
       "    </tr>\n",
       "  </thead>\n",
       "  <tbody>\n",
       "    <tr>\n",
       "      <th>2034</th>\n",
       "      <td>🤑Смотри количество выполнений ботом за каждый ...</td>\n",
       "      <td>2</td>\n",
       "      <td>46</td>\n",
       "    </tr>\n",
       "    <tr>\n",
       "      <th>2033</th>\n",
       "      <td>🤑Смотри количество выполнений ботом за каждый ...</td>\n",
       "      <td>1</td>\n",
       "      <td>46</td>\n",
       "    </tr>\n",
       "    <tr>\n",
       "      <th>1665</th>\n",
       "      <td>Упаси Боже нас от инвестиций, компаний с вымыш...</td>\n",
       "      <td>1</td>\n",
       "      <td>33</td>\n",
       "    </tr>\n",
       "    <tr>\n",
       "      <th>1664</th>\n",
       "      <td>Упаси Боже нас от инвестиций, компаний с вымыш...</td>\n",
       "      <td>2</td>\n",
       "      <td>30</td>\n",
       "    </tr>\n",
       "    <tr>\n",
       "      <th>1666</th>\n",
       "      <td>Упаси Боже нас от инвестиций, компаний с вымыш...</td>\n",
       "      <td>1</td>\n",
       "      <td>30</td>\n",
       "    </tr>\n",
       "    <tr>\n",
       "      <th>...</th>\n",
       "      <td>...</td>\n",
       "      <td>...</td>\n",
       "      <td>...</td>\n",
       "    </tr>\n",
       "    <tr>\n",
       "      <th>700</th>\n",
       "      <td>Американская майнинговая компания TeraWulf при...</td>\n",
       "      <td>1</td>\n",
       "      <td>0</td>\n",
       "    </tr>\n",
       "    <tr>\n",
       "      <th>699</th>\n",
       "      <td>Альткойн упал на 99 процентов по отношению к с...</td>\n",
       "      <td>1</td>\n",
       "      <td>0</td>\n",
       "    </tr>\n",
       "    <tr>\n",
       "      <th>698</th>\n",
       "      <td>Алуштинский городской суд вынес приговор по уг...</td>\n",
       "      <td>1</td>\n",
       "      <td>0</td>\n",
       "    </tr>\n",
       "    <tr>\n",
       "      <th>697</th>\n",
       "      <td>Алиса Евсеева Нормализоваться vk.com/id3247461...</td>\n",
       "      <td>1</td>\n",
       "      <td>0</td>\n",
       "    </tr>\n",
       "    <tr>\n",
       "      <th>2041</th>\n",
       "      <td>🪙КУРСЫ КРИПТОВАЛЮТ\\n13.12.2022</td>\n",
       "      <td>1</td>\n",
       "      <td>0</td>\n",
       "    </tr>\n",
       "  </tbody>\n",
       "</table>\n",
       "<p>2042 rows × 3 columns</p>\n",
       "</div>"
      ],
      "text/plain": [
       "                                                  posts  dupl  emoji\n",
       "2034  🤑Смотри количество выполнений ботом за каждый ...     2     46\n",
       "2033  🤑Смотри количество выполнений ботом за каждый ...     1     46\n",
       "1665  Упаси Боже нас от инвестиций, компаний с вымыш...     1     33\n",
       "1664  Упаси Боже нас от инвестиций, компаний с вымыш...     2     30\n",
       "1666  Упаси Боже нас от инвестиций, компаний с вымыш...     1     30\n",
       "...                                                 ...   ...    ...\n",
       "700   Американская майнинговая компания TeraWulf при...     1      0\n",
       "699   Альткойн упал на 99 процентов по отношению к с...     1      0\n",
       "698   Алуштинский городской суд вынес приговор по уг...     1      0\n",
       "697   Алиса Евсеева Нормализоваться vk.com/id3247461...     1      0\n",
       "2041                     🪙КУРСЫ КРИПТОВАЛЮТ\\n13.12.2022     1      0\n",
       "\n",
       "[2042 rows x 3 columns]"
      ]
     },
     "execution_count": 9,
     "metadata": {},
     "output_type": "execute_result"
    }
   ],
   "source": [
    "emoji_count = [len(re.findall(u'[\\U0001f34a-\\U0001f650]', x)) for x in data.posts]\n",
    "data[\"emoji\"]= emoji_count\n",
    "data = data.sort_values(by='emoji', ascending=False)\n",
    "data"
   ]
  },
  {
   "cell_type": "code",
   "execution_count": 10,
   "metadata": {},
   "outputs": [
    {
     "data": {
      "text/plain": [
       "[<matplotlib.lines.Line2D at 0x7f22d32bf4f0>]"
      ]
     },
     "execution_count": 10,
     "metadata": {},
     "output_type": "execute_result"
    },
    {
     "data": {
      "image/png": "[encoded data removed]",
      "text/plain": [
       "<Figure size 640x480 with 1 Axes>"
      ]
     },
     "metadata": {},
     "output_type": "display_data"
    }
   ],
   "source": [
    "plt.plot(range(len(emoji_count)), emoji_count)"
   ]
  },
  {
   "cell_type": "markdown",
   "metadata": {},
   "source": [
    "# Clean lemat"
   ]
  },
  {
   "cell_type": "code",
   "execution_count": 11,
   "metadata": {},
   "outputs": [],
   "source": [
    "def clean_text(headline):\n",
    "    le=WordNetLemmatizer()\n",
    "    word_tokens=word_tokenize(headline)\n",
    "    tokens=[le.lemmatize(w) for w in word_tokens if w not in stop_words and len(w)>2]\n",
    "    cleaned_text=\" \".join(tokens)\n",
    "#     print(headline, '\\n')\n",
    "    return cleaned_text"
   ]
  },
  {
   "cell_type": "code",
   "execution_count": 12,
   "metadata": {},
   "outputs": [],
   "source": [
    "data['headline_cleaned_text']=data['posts'].apply(clean_text)"
   ]
  },
  {
   "cell_type": "code",
   "execution_count": 13,
   "metadata": {},
   "outputs": [
    {
     "data": {
      "text/html": [
       "<div>\n",
       "<style scoped>\n",
       "    .dataframe tbody tr th:only-of-type {\n",
       "        vertical-align: middle;\n",
       "    }\n",
       "\n",
       "    .dataframe tbody tr th {\n",
       "        vertical-align: top;\n",
       "    }\n",
       "\n",
       "    .dataframe thead th {\n",
       "        text-align: right;\n",
       "    }\n",
       "</style>\n",
       "<table border=\"1\" class=\"dataframe\">\n",
       "  <thead>\n",
       "    <tr style=\"text-align: right;\">\n",
       "      <th></th>\n",
       "      <th>posts</th>\n",
       "      <th>dupl</th>\n",
       "      <th>emoji</th>\n",
       "      <th>headline_cleaned_text</th>\n",
       "    </tr>\n",
       "  </thead>\n",
       "  <tbody>\n",
       "    <tr>\n",
       "      <th>2034</th>\n",
       "      <td>🤑Смотри количество выполнений ботом за каждый ...</td>\n",
       "      <td>2</td>\n",
       "      <td>46</td>\n",
       "      <td>🤑Смотри количество выполнений ботом каждый ден...</td>\n",
       "    </tr>\n",
       "    <tr>\n",
       "      <th>2033</th>\n",
       "      <td>🤑Смотри количество выполнений ботом за каждый ...</td>\n",
       "      <td>1</td>\n",
       "      <td>46</td>\n",
       "      <td>🤑Смотри количество выполнений ботом каждый ден...</td>\n",
       "    </tr>\n",
       "    <tr>\n",
       "      <th>1665</th>\n",
       "      <td>Упаси Боже нас от инвестиций, компаний с вымыш...</td>\n",
       "      <td>1</td>\n",
       "      <td>33</td>\n",
       "      <td>Упаси Боже инвестиций компаний вымышленной кри...</td>\n",
       "    </tr>\n",
       "    <tr>\n",
       "      <th>1664</th>\n",
       "      <td>Упаси Боже нас от инвестиций, компаний с вымыш...</td>\n",
       "      <td>2</td>\n",
       "      <td>30</td>\n",
       "      <td>Упаси Боже инвестиций компаний вымышленной кри...</td>\n",
       "    </tr>\n",
       "    <tr>\n",
       "      <th>1666</th>\n",
       "      <td>Упаси Боже нас от инвестиций, компаний с вымыш...</td>\n",
       "      <td>1</td>\n",
       "      <td>30</td>\n",
       "      <td>Упаси Боже инвестиций компаний вымышленной кри...</td>\n",
       "    </tr>\n",
       "    <tr>\n",
       "      <th>...</th>\n",
       "      <td>...</td>\n",
       "      <td>...</td>\n",
       "      <td>...</td>\n",
       "      <td>...</td>\n",
       "    </tr>\n",
       "    <tr>\n",
       "      <th>700</th>\n",
       "      <td>Американская майнинговая компания TeraWulf при...</td>\n",
       "      <td>1</td>\n",
       "      <td>0</td>\n",
       "      <td>Американская майнинговая компания TeraWulf при...</td>\n",
       "    </tr>\n",
       "    <tr>\n",
       "      <th>699</th>\n",
       "      <td>Альткойн упал на 99 процентов по отношению к с...</td>\n",
       "      <td>1</td>\n",
       "      <td>0</td>\n",
       "      <td>Альткойн упал процентов отношению своему ATH н...</td>\n",
       "    </tr>\n",
       "    <tr>\n",
       "      <th>698</th>\n",
       "      <td>Алуштинский городской суд вынес приговор по уг...</td>\n",
       "      <td>1</td>\n",
       "      <td>0</td>\n",
       "      <td>Алуштинский городской суд вынес приговор уголо...</td>\n",
       "    </tr>\n",
       "    <tr>\n",
       "      <th>697</th>\n",
       "      <td>Алиса Евсеева Нормализоваться vk.com/id3247461...</td>\n",
       "      <td>1</td>\n",
       "      <td>0</td>\n",
       "      <td>Алиса Евсеева Нормализоваться vk.com/id3247461...</td>\n",
       "    </tr>\n",
       "    <tr>\n",
       "      <th>2041</th>\n",
       "      <td>🪙КУРСЫ КРИПТОВАЛЮТ\\n13.12.2022</td>\n",
       "      <td>1</td>\n",
       "      <td>0</td>\n",
       "      <td>🪙КУРСЫ КРИПТОВАЛЮТ 13.12.2022</td>\n",
       "    </tr>\n",
       "  </tbody>\n",
       "</table>\n",
       "<p>2042 rows × 4 columns</p>\n",
       "</div>"
      ],
      "text/plain": [
       "                                                  posts  dupl  emoji  \\\n",
       "2034  🤑Смотри количество выполнений ботом за каждый ...     2     46   \n",
       "2033  🤑Смотри количество выполнений ботом за каждый ...     1     46   \n",
       "1665  Упаси Боже нас от инвестиций, компаний с вымыш...     1     33   \n",
       "1664  Упаси Боже нас от инвестиций, компаний с вымыш...     2     30   \n",
       "1666  Упаси Боже нас от инвестиций, компаний с вымыш...     1     30   \n",
       "...                                                 ...   ...    ...   \n",
       "700   Американская майнинговая компания TeraWulf при...     1      0   \n",
       "699   Альткойн упал на 99 процентов по отношению к с...     1      0   \n",
       "698   Алуштинский городской суд вынес приговор по уг...     1      0   \n",
       "697   Алиса Евсеева Нормализоваться vk.com/id3247461...     1      0   \n",
       "2041                     🪙КУРСЫ КРИПТОВАЛЮТ\\n13.12.2022     1      0   \n",
       "\n",
       "                                  headline_cleaned_text  \n",
       "2034  🤑Смотри количество выполнений ботом каждый ден...  \n",
       "2033  🤑Смотри количество выполнений ботом каждый ден...  \n",
       "1665  Упаси Боже инвестиций компаний вымышленной кри...  \n",
       "1664  Упаси Боже инвестиций компаний вымышленной кри...  \n",
       "1666  Упаси Боже инвестиций компаний вымышленной кри...  \n",
       "...                                                 ...  \n",
       "700   Американская майнинговая компания TeraWulf при...  \n",
       "699   Альткойн упал процентов отношению своему ATH н...  \n",
       "698   Алуштинский городской суд вынес приговор уголо...  \n",
       "697   Алиса Евсеева Нормализоваться vk.com/id3247461...  \n",
       "2041                      🪙КУРСЫ КРИПТОВАЛЮТ 13.12.2022  \n",
       "\n",
       "[2042 rows x 4 columns]"
      ]
     },
     "execution_count": 13,
     "metadata": {},
     "output_type": "execute_result"
    }
   ],
   "source": [
    "df = data\n",
    "df"
   ]
  },
  {
   "cell_type": "code",
   "execution_count": 14,
   "metadata": {},
   "outputs": [
    {
     "data": {
      "text/html": [
       "<div>\n",
       "<style scoped>\n",
       "    .dataframe tbody tr th:only-of-type {\n",
       "        vertical-align: middle;\n",
       "    }\n",
       "\n",
       "    .dataframe tbody tr th {\n",
       "        vertical-align: top;\n",
       "    }\n",
       "\n",
       "    .dataframe thead th {\n",
       "        text-align: right;\n",
       "    }\n",
       "</style>\n",
       "<table border=\"1\" class=\"dataframe\">\n",
       "  <thead>\n",
       "    <tr style=\"text-align: right;\">\n",
       "      <th></th>\n",
       "      <th>dupl</th>\n",
       "      <th>emoji</th>\n",
       "      <th>headline_cleaned_text</th>\n",
       "    </tr>\n",
       "  </thead>\n",
       "  <tbody>\n",
       "    <tr>\n",
       "      <th>2034</th>\n",
       "      <td>2</td>\n",
       "      <td>46</td>\n",
       "      <td>🤑Смотри количество выполнений ботом каждый ден...</td>\n",
       "    </tr>\n",
       "    <tr>\n",
       "      <th>2033</th>\n",
       "      <td>1</td>\n",
       "      <td>46</td>\n",
       "      <td>🤑Смотри количество выполнений ботом каждый ден...</td>\n",
       "    </tr>\n",
       "    <tr>\n",
       "      <th>1665</th>\n",
       "      <td>1</td>\n",
       "      <td>33</td>\n",
       "      <td>Упаси Боже инвестиций компаний вымышленной кри...</td>\n",
       "    </tr>\n",
       "    <tr>\n",
       "      <th>1664</th>\n",
       "      <td>2</td>\n",
       "      <td>30</td>\n",
       "      <td>Упаси Боже инвестиций компаний вымышленной кри...</td>\n",
       "    </tr>\n",
       "    <tr>\n",
       "      <th>1666</th>\n",
       "      <td>1</td>\n",
       "      <td>30</td>\n",
       "      <td>Упаси Боже инвестиций компаний вымышленной кри...</td>\n",
       "    </tr>\n",
       "  </tbody>\n",
       "</table>\n",
       "</div>"
      ],
      "text/plain": [
       "      dupl  emoji                              headline_cleaned_text\n",
       "2034     2     46  🤑Смотри количество выполнений ботом каждый ден...\n",
       "2033     1     46  🤑Смотри количество выполнений ботом каждый ден...\n",
       "1665     1     33  Упаси Боже инвестиций компаний вымышленной кри...\n",
       "1664     2     30  Упаси Боже инвестиций компаний вымышленной кри...\n",
       "1666     1     30  Упаси Боже инвестиций компаний вымышленной кри..."
      ]
     },
     "execution_count": 14,
     "metadata": {},
     "output_type": "execute_result"
    }
   ],
   "source": [
    "df.drop(['posts'],axis=1,inplace=True)\n",
    "df.head()"
   ]
  },
  {
   "cell_type": "code",
   "execution_count": 15,
   "metadata": {},
   "outputs": [
    {
     "data": {
      "text/html": [
       "<div>\n",
       "<style scoped>\n",
       "    .dataframe tbody tr th:only-of-type {\n",
       "        vertical-align: middle;\n",
       "    }\n",
       "\n",
       "    .dataframe tbody tr th {\n",
       "        vertical-align: top;\n",
       "    }\n",
       "\n",
       "    .dataframe thead th {\n",
       "        text-align: right;\n",
       "    }\n",
       "</style>\n",
       "<table border=\"1\" class=\"dataframe\">\n",
       "  <thead>\n",
       "    <tr style=\"text-align: right;\">\n",
       "      <th></th>\n",
       "      <th>headline_cleaned_text</th>\n",
       "      <th>len</th>\n",
       "    </tr>\n",
       "  </thead>\n",
       "  <tbody>\n",
       "    <tr>\n",
       "      <th>0</th>\n",
       "      <td>'Binance see withdrawal 1.9 billion last hour ...</td>\n",
       "      <td>1</td>\n",
       "    </tr>\n",
       "    <tr>\n",
       "      <th>1343</th>\n",
       "      <td>Последние новости криптовалют Стейблкоин Neutr...</td>\n",
       "      <td>1</td>\n",
       "    </tr>\n",
       "    <tr>\n",
       "      <th>1342</th>\n",
       "      <td>Последние новости криптовалют Полный запрет об...</td>\n",
       "      <td>1</td>\n",
       "    </tr>\n",
       "    <tr>\n",
       "      <th>1341</th>\n",
       "      <td>Последнее время изучение темы криптовалют стан...</td>\n",
       "      <td>1</td>\n",
       "    </tr>\n",
       "    <tr>\n",
       "      <th>1340</th>\n",
       "      <td>После стало известно основатель торговой платф...</td>\n",
       "      <td>1</td>\n",
       "    </tr>\n",
       "    <tr>\n",
       "      <th>...</th>\n",
       "      <td>...</td>\n",
       "      <td>...</td>\n",
       "    </tr>\n",
       "    <tr>\n",
       "      <th>1813</th>\n",
       "      <td>научилась инвестировать Golden Gate Тема привл...</td>\n",
       "      <td>2</td>\n",
       "    </tr>\n",
       "    <tr>\n",
       "      <th>1241</th>\n",
       "      <td>ОФИЦИАЛЬНО Барселона WhiteBIT подписали соглаш...</td>\n",
       "      <td>2</td>\n",
       "    </tr>\n",
       "    <tr>\n",
       "      <th>358</th>\n",
       "      <td>Sam Bankman-Fried fondateur FTX est arrêté aux...</td>\n",
       "      <td>3</td>\n",
       "    </tr>\n",
       "    <tr>\n",
       "      <th>1799</th>\n",
       "      <td>криптобирж вывели 200.000 биткоинов последние ...</td>\n",
       "      <td>3</td>\n",
       "    </tr>\n",
       "    <tr>\n",
       "      <th>1397</th>\n",
       "      <td>Продолжается вывод средств крупнейшей мире кри...</td>\n",
       "      <td>3</td>\n",
       "    </tr>\n",
       "  </tbody>\n",
       "</table>\n",
       "<p>2012 rows × 2 columns</p>\n",
       "</div>"
      ],
      "text/plain": [
       "                                  headline_cleaned_text  len\n",
       "0     'Binance see withdrawal 1.9 billion last hour ...    1\n",
       "1343  Последние новости криптовалют Стейблкоин Neutr...    1\n",
       "1342  Последние новости криптовалют Полный запрет об...    1\n",
       "1341  Последнее время изучение темы криптовалют стан...    1\n",
       "1340  После стало известно основатель торговой платф...    1\n",
       "...                                                 ...  ...\n",
       "1813  научилась инвестировать Golden Gate Тема привл...    2\n",
       "1241  ОФИЦИАЛЬНО Барселона WhiteBIT подписали соглаш...    2\n",
       "358   Sam Bankman-Fried fondateur FTX est arrêté aux...    3\n",
       "1799  криптобирж вывели 200.000 биткоинов последние ...    3\n",
       "1397  Продолжается вывод средств крупнейшей мире кри...    3\n",
       "\n",
       "[2012 rows x 2 columns]"
      ]
     },
     "execution_count": 15,
     "metadata": {},
     "output_type": "execute_result"
    }
   ],
   "source": [
    "texts = df.groupby('headline_cleaned_text')['headline_cleaned_text'].count().reset_index(name='len')\n",
    "texts.sort_values('len')"
   ]
  },
  {
   "cell_type": "code",
   "execution_count": 16,
   "metadata": {
    "scrolled": true
   },
   "outputs": [
    {
     "data": {
      "text/html": [
       "<div>\n",
       "<style scoped>\n",
       "    .dataframe tbody tr th:only-of-type {\n",
       "        vertical-align: middle;\n",
       "    }\n",
       "\n",
       "    .dataframe tbody tr th {\n",
       "        vertical-align: top;\n",
       "    }\n",
       "\n",
       "    .dataframe thead th {\n",
       "        text-align: right;\n",
       "    }\n",
       "</style>\n",
       "<table border=\"1\" class=\"dataframe\">\n",
       "  <thead>\n",
       "    <tr style=\"text-align: right;\">\n",
       "      <th></th>\n",
       "      <th>dupl</th>\n",
       "      <th>emoji</th>\n",
       "    </tr>\n",
       "  </thead>\n",
       "  <tbody>\n",
       "    <tr>\n",
       "      <th>count</th>\n",
       "      <td>2042.000000</td>\n",
       "      <td>2042.000000</td>\n",
       "    </tr>\n",
       "    <tr>\n",
       "      <th>mean</th>\n",
       "      <td>1.469638</td>\n",
       "      <td>1.055828</td>\n",
       "    </tr>\n",
       "    <tr>\n",
       "      <th>std</th>\n",
       "      <td>8.069414</td>\n",
       "      <td>3.390886</td>\n",
       "    </tr>\n",
       "    <tr>\n",
       "      <th>min</th>\n",
       "      <td>1.000000</td>\n",
       "      <td>0.000000</td>\n",
       "    </tr>\n",
       "    <tr>\n",
       "      <th>25%</th>\n",
       "      <td>1.000000</td>\n",
       "      <td>0.000000</td>\n",
       "    </tr>\n",
       "    <tr>\n",
       "      <th>50%</th>\n",
       "      <td>1.000000</td>\n",
       "      <td>0.000000</td>\n",
       "    </tr>\n",
       "    <tr>\n",
       "      <th>75%</th>\n",
       "      <td>1.000000</td>\n",
       "      <td>0.000000</td>\n",
       "    </tr>\n",
       "    <tr>\n",
       "      <th>max</th>\n",
       "      <td>285.000000</td>\n",
       "      <td>46.000000</td>\n",
       "    </tr>\n",
       "  </tbody>\n",
       "</table>\n",
       "</div>"
      ],
      "text/plain": [
       "              dupl        emoji\n",
       "count  2042.000000  2042.000000\n",
       "mean      1.469638     1.055828\n",
       "std       8.069414     3.390886\n",
       "min       1.000000     0.000000\n",
       "25%       1.000000     0.000000\n",
       "50%       1.000000     0.000000\n",
       "75%       1.000000     0.000000\n",
       "max     285.000000    46.000000"
      ]
     },
     "execution_count": 16,
     "metadata": {},
     "output_type": "execute_result"
    }
   ],
   "source": [
    "df.describe()"
   ]
  },
  {
   "cell_type": "markdown",
   "metadata": {},
   "source": [
    "## Vectorizing usung TfidfVectorizer"
   ]
  },
  {
   "cell_type": "code",
   "execution_count": 63,
   "metadata": {},
   "outputs": [],
   "source": [
    "#max_features - MAX vocabulare for comment\n",
    "#TF-IDF. Эта аббревиатура означает \"term frequency — inverse document frequency\"\n",
    "#каждая строка соответствует документу\n",
    "#каждый столбец соответствует слову\n",
    "vect = TfidfVectorizer(stop_words=stop_words,max_features=200)\n",
    "vect_text=vect.fit_transform(df['headline_cleaned_text'])"
   ]
  },
  {
   "cell_type": "code",
   "execution_count": 64,
   "metadata": {
    "scrolled": true
   },
   "outputs": [
    {
     "data": {
      "text/plain": [
       "{'криптовалюты': 94,\n",
       " 'программа': 156,\n",
       " '000': 0,\n",
       " 'деньги': 53,\n",
       " 'это': 198,\n",
       " 'компании': 85,\n",
       " 'просто': 157,\n",
       " 'которые': 88,\n",
       " 'ставках': 179,\n",
       " 'план': 142,\n",
       " 'курсы': 99,\n",
       " 'обучение': 132,\n",
       " 'маркетплейс': 113,\n",
       " 'поиск': 146,\n",
       " 'работа': 159,\n",
       " 'инструмент': 77,\n",
       " 'обеспечение': 130,\n",
       " 'заработок': 68,\n",
       " 'btc': 7,\n",
       " '2022': 2,\n",
       " 'binance': 5,\n",
       " 'crypto': 8,\n",
       " 'спорт': 177,\n",
       " 'сегодня': 167,\n",
       " 'криптовалют': 92,\n",
       " 'счет': 186,\n",
       " 'который': 89,\n",
       " 'года': 46,\n",
       " 'криптовалюта': 93,\n",
       " 'декабря': 52,\n",
       " 'вывод': 42,\n",
       " 'млн': 121,\n",
       " 'средств': 178,\n",
       " 'nft': 14,\n",
       " 'также': 188,\n",
       " 'ftx': 11,\n",
       " 'биткоин': 29,\n",
       " 'сша': 187,\n",
       " 'время': 41,\n",
       " 'участник': 196,\n",
       " 'преступление': 153,\n",
       " 'году': 47,\n",
       " 'закрытый': 67,\n",
       " 'клуб': 83,\n",
       " 'que': 16,\n",
       " 'de': 9,\n",
       " 'le': 12,\n",
       " 'ставки': 180,\n",
       " 'одежда': 134,\n",
       " 'ребенок': 163,\n",
       " 'подарок': 145,\n",
       " 'крипто': 91,\n",
       " 'bitcoin': 6,\n",
       " 'победа': 143,\n",
       " 'владелец': 38,\n",
       " 'новости': 128,\n",
       " 'страна': 182,\n",
       " 'ирина': 79,\n",
       " 'mix': 13,\n",
       " 'ru': 17,\n",
       " 'информация': 78,\n",
       " 'bet': 4,\n",
       " 'ольга': 137,\n",
       " 'доставка': 59,\n",
       " 'машины': 116,\n",
       " 'часть': 197,\n",
       " 'развод': 160,\n",
       " 'сезон': 168,\n",
       " 'дмитрий': 56,\n",
       " 'попытка': 150,\n",
       " 'суть': 184,\n",
       " 'получение': 148,\n",
       " 'навыки': 124,\n",
       " 'лето': 103,\n",
       " 'екатерина': 61,\n",
       " 'мошенник': 122,\n",
       " 'уроки': 193,\n",
       " 'серия': 170,\n",
       " 'институт': 76,\n",
       " 'май': 108,\n",
       " 'bankman': 3,\n",
       " 'fried': 10,\n",
       " 'надежда': 125,\n",
       " 'озон': 135,\n",
       " 'точный': 192,\n",
       " 'счастье': 185,\n",
       " 'возраст': 40,\n",
       " 'наталья': 126,\n",
       " 'любовь': 105,\n",
       " 'остаток': 138,\n",
       " 'кандидат': 81,\n",
       " 'марина': 111,\n",
       " 'прогноз': 155,\n",
       " 'размер': 162,\n",
       " 'лагерь': 101,\n",
       " 'успех': 194,\n",
       " 'погода': 144,\n",
       " 'татьяна': 189,\n",
       " 'звезды': 70,\n",
       " 'пространство': 158,\n",
       " 'культура': 98,\n",
       " 'матчи': 115,\n",
       " 'елена': 62,\n",
       " 'объяснение': 133,\n",
       " 'светлана': 166,\n",
       " 'ксения': 96,\n",
       " 'михаил': 119,\n",
       " 'анна': 26,\n",
       " 'viktor': 18,\n",
       " 'виктор': 36,\n",
       " 'алёна': 24,\n",
       " 'маргарита': 110,\n",
       " 'анюта': 27,\n",
       " 'кузнецова': 97,\n",
       " 'зона': 73,\n",
       " 'оксана': 136,\n",
       " 'кристина': 95,\n",
       " 'юлия': 199,\n",
       " 'миронова': 118,\n",
       " 'анастасия': 25,\n",
       " 'обман': 131,\n",
       " 'егорова': 60,\n",
       " 'валерия': 34,\n",
       " 'соколова': 176,\n",
       " 'навинтить': 123,\n",
       " 'кухня': 100,\n",
       " 'виктория': 37,\n",
       " 'алиса': 22,\n",
       " 'дмитриева': 55,\n",
       " 'полина': 147,\n",
       " 'нормализоваться': 129,\n",
       " 'власова': 39,\n",
       " 'род': 165,\n",
       " 'слава': 174,\n",
       " 'ухо': 195,\n",
       " 'заграничный': 65,\n",
       " 'букмекерский': 31,\n",
       " 'алина': 21,\n",
       " 'катерина': 82,\n",
       " 'изображение': 75,\n",
       " 'смирнова': 175,\n",
       " 'мария': 112,\n",
       " 'голубева': 48,\n",
       " 'елизавета': 63,\n",
       " 'дарья': 51,\n",
       " 'каналья': 80,\n",
       " 'статья': 181,\n",
       " 'красота': 90,\n",
       " 'гора': 49,\n",
       " 'сероглазый': 171,\n",
       " 'павлова': 139,\n",
       " 'потолок': 152,\n",
       " 'губа': 50,\n",
       " 'комарова': 84,\n",
       " 'заграничная': 64,\n",
       " 'структура': 183,\n",
       " 'людмила': 106,\n",
       " 'зайцева': 66,\n",
       " 'зима': 72,\n",
       " 'неопровержимый': 127,\n",
       " 'магнит': 107,\n",
       " 'контора': 86,\n",
       " 'разгибать': 161,\n",
       " 'выражение': 43,\n",
       " 'алена': 20,\n",
       " 'лестница': 102,\n",
       " 'земля': 71,\n",
       " 'вероника': 35,\n",
       " 'белизна': 28,\n",
       " 'регина': 164,\n",
       " 'договорные': 57,\n",
       " 'михайлова': 120,\n",
       " 'валентина': 33,\n",
       " 'петрова': 141,\n",
       " 'алла': 23,\n",
       " 'партия': 140,\n",
       " 'тетя': 190,\n",
       " 'природа': 154,\n",
       " 'захарова': 69,\n",
       " 'газета': 44,\n",
       " 'букмекерская': 30,\n",
       " 'александра': 19,\n",
       " 'мальцева': 109,\n",
       " 'титова': 191,\n",
       " 'лилия': 104,\n",
       " 'договорных': 58,\n",
       " 'матчах': 114,\n",
       " 'вайлбериз': 32,\n",
       " 'диана': 54,\n",
       " 'сказка': 173,\n",
       " 'ozon': 15,\n",
       " 'постановление': 151,\n",
       " 'миг': 117,\n",
       " 'измотаться': 74,\n",
       " 'семья': 169,\n",
       " 'галина': 45,\n",
       " 'попова': 149,\n",
       " 'котова': 87,\n",
       " 'сидорова': 172,\n",
       " '1xbet': 1}"
      ]
     },
     "execution_count": 64,
     "metadata": {},
     "output_type": "execute_result"
    }
   ],
   "source": [
    "#список всех рассматриваемых слов (100 самых встречаемых)\n",
    "vect.vocabulary_"
   ]
  },
  {
   "cell_type": "code",
   "execution_count": 65,
   "metadata": {},
   "outputs": [
    {
     "data": {
      "text/plain": [
       "'Большая реформа Основатель Академии Шринатджи Алакх Ниранжан астропрогнозом США 2023 ⚡15 декабря 12:00 Киев/13:00 Мск нашем YouTube канале http //youtube.com/ШринатджиВедическаяАкадемия Поговорим ждёт США 2023 году также обсудим Финансовая денежная реформа Ограничения рынка криптовалют Большая миротворческая операция Прибыль новые ресурсы страны встречи эфире прогноз2023 академияшринатджи джйотиш США ведическаяастрология прямойэфир АлакхНиранжан астропрогноз гороскопджйотиш Америка'"
      ]
     },
     "execution_count": 65,
     "metadata": {},
     "output_type": "execute_result"
    }
   ],
   "source": [
    "df['headline_cleaned_text'][1]"
   ]
  },
  {
   "cell_type": "code",
   "execution_count": 66,
   "metadata": {
    "scrolled": true
   },
   "outputs": [
    {
     "name": "stdout",
     "output_type": "stream",
     "text": [
      "(2042, 200)\n",
      "  (0, 156)\t0.8090823483008407\n",
      "  (0, 94)\t0.587695289812669\n",
      "  (1, 156)\t0.8090823483008407\n",
      "  (1, 94)\t0.587695289812669\n",
      "  (2, 179)\t0.17381560300037735\n",
      "  (2, 88)\t0.1677058863919442\n",
      "  (2, 157)\t0.533367626183833\n",
      "  (2, 85)\t0.1963396271141676\n",
      "  (2, 198)\t0.401367967931463\n",
      "  (2, 53)\t0.38566204183243546\n",
      "  (2, 0)\t0.5556987869295784\n",
      "  (3, 179)\t0.17381560300037735\n",
      "  (3, 88)\t0.1677058863919442\n",
      "  (3, 157)\t0.533367626183833\n",
      "  (3, 85)\t0.1963396271141676\n",
      "  (3, 198)\t0.401367967931463\n",
      "  (3, 53)\t0.38566204183243546\n",
      "  (3, 0)\t0.5556987869295784\n",
      "  (4, 179)\t0.17381560300037735\n",
      "  (4, 88)\t0.1677058863919442\n",
      "  (4, 157)\t0.533367626183833\n",
      "  (4, 85)\t0.1963396271141676\n",
      "  (4, 198)\t0.401367967931463\n",
      "  (4, 53)\t0.38566204183243546\n",
      "  (4, 0)\t0.5556987869295784\n",
      "  :\t:\n",
      "  (2040, 134)\t0.029296315817667635\n",
      "  (2040, 180)\t0.05609835676056083\n",
      "  (2040, 83)\t0.05756909323069443\n",
      "  (2040, 67)\t0.0292156949413891\n",
      "  (2040, 153)\t0.029336894200195467\n",
      "  (2040, 196)\t0.029377653333353224\n",
      "  (2040, 178)\t0.02488491827265092\n",
      "  (2040, 42)\t0.02695180865282639\n",
      "  (2040, 186)\t0.05257426064251363\n",
      "  (2040, 177)\t0.028557665316673024\n",
      "  (2040, 68)\t0.028013916640057184\n",
      "  (2040, 130)\t0.02905655336036434\n",
      "  (2040, 77)\t0.028632669099432215\n",
      "  (2040, 159)\t0.028155786307675505\n",
      "  (2040, 146)\t0.0292156949413891\n",
      "  (2040, 113)\t0.029255916589729855\n",
      "  (2040, 132)\t0.02826365093898411\n",
      "  (2040, 99)\t0.028446299922611412\n",
      "  (2040, 142)\t0.02890013228189101\n",
      "  (2040, 179)\t0.05851183317945971\n",
      "  (2040, 156)\t0.02837280225626814\n",
      "  (2040, 94)\t0.020609227577159998\n",
      "  (2041, 92)\t0.5194784515071962\n",
      "  (2041, 2)\t0.5991843600104018\n",
      "  (2041, 99)\t0.6091963896303153\n"
     ]
    }
   ],
   "source": [
    "print(vect_text.shape)\n",
    "print(vect_text)\n",
    "# vect_text"
   ]
  },
  {
   "cell_type": "code",
   "execution_count": 67,
   "metadata": {},
   "outputs": [
    {
     "data": {
      "text/plain": [
       "42083"
      ]
     },
     "execution_count": 67,
     "metadata": {},
     "output_type": "execute_result"
    }
   ],
   "source": [
    "#all stored values ~ 2042*100\n",
    "vect_text.getnnz()"
   ]
  },
  {
   "cell_type": "code",
   "execution_count": 68,
   "metadata": {},
   "outputs": [
    {
     "data": {
      "text/plain": [
       "array([3.40723884, 5.44412076, 3.05765419, 3.76236219, 5.40329877,\n",
       "       3.22854705, 3.59829407, 3.4631193 , 2.64582369, 4.57912333,\n",
       "       3.77798751, 2.93519924, 4.65188268, 7.23588023, 3.96821424,\n",
       "       3.23310287, 4.65188268, 3.31886969, 4.22772544, 3.16685348,\n",
       "       3.468883  , 3.81815355, 3.42921774, 3.22854705, 3.23310287,\n",
       "       3.22854705, 3.22401189, 3.23310287, 3.23310287, 3.43478879,\n",
       "       3.13737766, 3.23310287, 3.23310287, 3.22854705, 3.22401189,\n",
       "       3.49821062, 4.14483778, 3.22401189, 3.20607419, 3.23310287,\n",
       "       3.17975688, 3.2894558 , 2.94542079, 3.23310287, 3.21052854,\n",
       "       3.6734147 , 2.9767277 , 3.51018681, 3.23310287, 3.22854705,\n",
       "       3.23310287, 3.49227588, 3.36467922, 3.54700078, 3.22854705,\n",
       "       3.49821062, 4.10038602, 3.18845259, 3.23310287, 3.19282897,\n",
       "       3.23310287, 3.20607419, 3.21500282, 3.468883  , 3.23310287,\n",
       "       3.23310287, 3.49821062, 3.19282897, 3.06149296, 3.74697727,\n",
       "       3.22401189, 3.21500282, 3.21949721, 3.23310287, 3.23310287,\n",
       "       3.22401189, 3.21052854, 3.12911315, 3.03492594, 3.19722458,\n",
       "       3.23310287, 3.21949721, 3.42921774, 3.14571104, 3.42921774,\n",
       "       3.6115393 , 3.13737766, 3.68770066, 3.08484033, 3.40723884,\n",
       "       3.23310287, 3.44039104, 2.65091276, 3.30896862, 2.25227361,\n",
       "       3.22401189, 3.49227588, 3.82638405, 3.22401189, 3.10874585,\n",
       "       3.23310287, 3.22854705, 3.22854705, 3.22854705, 3.23310287,\n",
       "       3.19282897, 3.22854705, 3.22854705, 3.20607419, 3.23310287,\n",
       "       3.23310287, 3.2016396 , 3.18409529, 3.19722458, 3.23310287,\n",
       "       3.17975688, 3.2016396 , 3.22854705, 3.81815355, 4.0895751 ,\n",
       "       3.47468012, 3.86000066, 3.17113614, 3.23310287, 3.20607419,\n",
       "       3.55327039, 3.22401189, 3.23310287, 3.55327039, 3.23310287,\n",
       "       3.17543722, 3.20607419, 3.08878511, 3.22854705, 3.2016396 ,\n",
       "       3.22401189, 3.23310287, 3.21949721, 3.21949721, 3.22854705,\n",
       "       3.22401189, 3.23310287, 3.15834279, 3.22401189, 3.20607419,\n",
       "       3.15411445, 3.19282897, 3.23310287, 3.18845259, 3.68770066,\n",
       "       3.18845259, 3.22854705, 3.21949721, 3.20607419, 3.23310287,\n",
       "       3.04622549, 3.10071368, 3.27031646, 3.19282897, 3.07699715,\n",
       "       3.2016396 , 3.23310287, 3.18409529, 3.21500282, 3.23310287,\n",
       "       3.23310287, 3.22401189, 3.66634754, 3.18409529, 3.21052854,\n",
       "       3.18845259, 3.23310287, 4.10038602, 3.23310287, 3.22854705,\n",
       "       3.23310287, 3.23310287, 3.12091638, 2.71954126, 3.19722458,\n",
       "       3.06534653, 3.21052854, 3.2016396 , 3.21949721, 3.19722458,\n",
       "       3.22401189, 2.87278161, 3.13323687, 3.22854705, 3.21052854,\n",
       "       3.23310287, 3.23310287, 3.14153567, 3.2016396 , 3.19722458,\n",
       "       3.23310287, 3.21052854, 2.97320036, 2.46096727, 3.21949721])"
      ]
     },
     "execution_count": 68,
     "metadata": {},
     "output_type": "execute_result"
    }
   ],
   "source": [
    "#inverse document frequency for every word\n",
    "#число документов в коллекции / число документов из коллекции в которых встречается слово\n",
    "idf=vect.idf_\n",
    "idf.shape\n",
    "idf"
   ]
  },
  {
   "cell_type": "markdown",
   "metadata": {},
   "source": [
    "# Applying LDA"
   ]
  },
  {
   "cell_type": "code",
   "execution_count": 69,
   "metadata": {},
   "outputs": [],
   "source": [
    "from sklearn.decomposition import LatentDirichletAllocation\n",
    "lda_model=LatentDirichletAllocation(n_components=10,learning_method='online',random_state=42,max_iter=1) "
   ]
  },
  {
   "cell_type": "code",
   "execution_count": 75,
   "metadata": {},
   "outputs": [],
   "source": [
    "#Матрица распределения текстов по темам\n",
    "lda_top=lda_model.fit_transform(vect_text)"
   ]
  },
  {
   "cell_type": "code",
   "execution_count": 71,
   "metadata": {},
   "outputs": [
    {
     "data": {
      "text/plain": [
       "array([0.0417229 , 0.0417317 , 0.62444315, 0.0417234 , 0.04172576,\n",
       "       0.04174511, 0.04173013, 0.04172292, 0.04172824, 0.04172668])"
      ]
     },
     "execution_count": 71,
     "metadata": {},
     "output_type": "execute_result"
    }
   ],
   "source": [
    "lda_model.components_.shape\n",
    "lda_top.shape\n",
    "lda_top[0]"
   ]
  },
  {
   "cell_type": "code",
   "execution_count": 72,
   "metadata": {},
   "outputs": [
    {
     "name": "stdout",
     "output_type": "stream",
     "text": [
      "0.9999999999999999\n"
     ]
    }
   ],
   "source": [
    "sum=0\n",
    "for i in lda_top[0]:\n",
    "  sum=sum+i\n",
    "print(sum) "
   ]
  },
  {
   "cell_type": "code",
   "execution_count": 73,
   "metadata": {},
   "outputs": [
    {
     "name": "stdout",
     "output_type": "stream",
     "text": [
      "Document 0: \n",
      "Topic  0 :  4.172290018660025 %\n",
      "Topic  1 :  4.1731701666942245 %\n",
      "Topic  2 :  62.44431512938811 %\n",
      "Topic  3 :  4.172340493947353 %\n",
      "Topic  4 :  4.172576252277186 %\n",
      "Topic  5 :  4.174511296405375 %\n",
      "Topic  6 :  4.173012772936771 %\n",
      "Topic  7 :  4.172291638968551 %\n",
      "Topic  8 :  4.172823900180226 %\n",
      "Topic  9 :  4.172668330542189 %\n"
     ]
    }
   ],
   "source": [
    "# composition of doc 0 for eg\n",
    "print(\"Document 0: \")\n",
    "for i,topic in enumerate(lda_top[1]):\n",
    "  print(\"Topic \",i,\": \",topic*100,\"%\")"
   ]
  },
  {
   "cell_type": "code",
   "execution_count": 74,
   "metadata": {},
   "outputs": [
    {
     "name": "stdout",
     "output_type": "stream",
     "text": [
      "Topic 0: \n",
      "ftx новости crypto криптовалют 2022 это года работа деньги доставка \n",
      "\n",
      "Topic 1: \n",
      "года время также криптовалют криптовалюты это спорт 2022 который суть \n",
      "\n",
      "Topic 2: \n",
      "криптовалюта крипто млн криптовалюты биткоин также это года деньги декабря \n",
      "\n",
      "Topic 3: \n",
      "crypto bankman fried ftx de le que 2022 bitcoin binance \n",
      "\n",
      "Topic 4: \n",
      "binance сша nft ftx криптовалют это средств крипто вывод криптовалюты \n",
      "\n",
      "Topic 5: \n",
      "bitcoin криптовалюты btc биткоин году криптовалюта это 000 crypto также \n",
      "\n",
      "Topic 6: \n",
      "ольга татьяна анастасия елена ирина светлана мария юлия анна наталья \n",
      "\n",
      "Topic 7: \n",
      "1xbet bet компании счет это сегодня криптовалют инструмент получение контора \n",
      "\n",
      "Topic 8: \n",
      "это 000 которые деньги который года просто время также сша \n",
      "\n",
      "Topic 9: \n",
      "ru криптовалют новости 2022 декабря сегодня crypto года которые обучение \n",
      "\n"
     ]
    }
   ],
   "source": [
    "# most important words for each topic\n",
    "vocab = vect.get_feature_names_out()\n",
    "\n",
    "for i, comp in enumerate(lda_model.components_):\n",
    "    vocab_comp = zip(vocab, comp)\n",
    "    sorted_words = sorted(vocab_comp, key= lambda x:x[1], reverse=True)[:10]\n",
    "    print(\"Topic \"+str(i)+\": \")\n",
    "    for t in sorted_words:\n",
    "        print(t[0],end=\" \")\n",
    "    print(\"\\n\")"
   ]
  },
  {
   "cell_type": "code",
   "execution_count": 26,
   "metadata": {},
   "outputs": [
    {
     "name": "stdout",
     "output_type": "stream",
     "text": [
      "Document 0: \n",
      "Topic  0 :  2.929361386036167 %\n",
      "Topic  1 :  73.63236709126983 %\n",
      "Topic  2 :  2.9294440321197968 %\n",
      "Topic  3 :  2.92927860373195 %\n",
      "Topic  4 :  2.9310906961024794 %\n",
      "Topic  5 :  2.929440246536043 %\n",
      "Topic  6 :  2.929198239855877 %\n",
      "Topic  7 :  2.9292195289244165 %\n",
      "Topic  8 :  2.929296215254681 %\n",
      "Topic  9 :  2.9313039601687585 %\n"
     ]
    }
   ],
   "source": [
    "# composition of doc 0 for eg\n",
    "print(\"Document 0: \")\n",
    "for i,topic in enumerate(lda_top[5]):\n",
    "  print(\"Topic \",i,\": \",topic*100,\"%\")"
   ]
  },
  {
   "cell_type": "code",
   "execution_count": 27,
   "metadata": {},
   "outputs": [],
   "source": [
    "import matplotlib.pyplot as plt\n",
    "from wordcloud import WordCloud\n",
    "# Generate a word cloud image for given topic\n",
    "def draw_word_cloud(index):\n",
    "  imp_words_topic=\"\"\n",
    "  comp=lda_model.components_[index]\n",
    "  vocab_comp = zip(vocab, comp)\n",
    "  sorted_words = sorted(vocab_comp, key= lambda x:x[1], reverse=True)[:50]\n",
    "  for word in sorted_words:\n",
    "    imp_words_topic=imp_words_topic+\" \"+word[0]\n",
    "\n",
    "  wordcloud = WordCloud(width=600, height=400).generate(imp_words_topic)\n",
    "  plt.figure( figsize=(5,5))\n",
    "  plt.imshow(wordcloud)\n",
    "  plt.axis(\"off\")\n",
    "  plt.tight_layout()\n",
    "  plt.show()"
   ]
  },
  {
   "cell_type": "code",
   "execution_count": 28,
   "metadata": {},
   "outputs": [
    {
     "data": {
      "image/png": "[encoded data removed]",
      "text/plain": [
       "<Figure size 500x500 with 1 Axes>"
      ]
     },
     "metadata": {},
     "output_type": "display_data"
    }
   ],
   "source": [
    "# topic 0\n",
    "draw_word_cloud(0)"
   ]
  },
  {
   "cell_type": "code",
   "execution_count": 29,
   "metadata": {},
   "outputs": [],
   "source": [
    "from sklearn.cluster import KMeans\n",
    "from sklearn.manifold import TSNE\n",
    "\n",
    "term_doc_matrix = vect.transform(df['headline_cleaned_text'])\n",
    "embeddings = lda_model.transform(term_doc_matrix)\n",
    "\n",
    "kmeans = KMeans(n_clusters=30)\n",
    "clust_labels = kmeans.fit_predict(embeddings)\n",
    "clust_centers = kmeans.cluster_centers_\n",
    "\n",
    "embeddings_to_tsne = np.concatenate((embeddings,clust_centers), axis=0)\n",
    "\n",
    "tSNE =  TSNE(n_components=2, perplexity=15)\n",
    "tsne_embeddings = tSNE.fit_transform(embeddings_to_tsne)\n",
    "tsne_embeddings, centroids_embeddings = np.split(tsne_embeddings, [len(clust_labels)], axis=0)"
   ]
  },
  {
   "cell_type": "code",
   "execution_count": 30,
   "metadata": {},
   "outputs": [],
   "source": [
    "import matplotlib.cm as cm\n",
    "clust_indices = np.unique(clust_labels)\n",
    "\n",
    "clusters = {clust_ind : [] for clust_ind in clust_indices}\n",
    "for emb, label in zip(tsne_embeddings, clust_labels):\n",
    "    clusters[label].append(emb)\n",
    "\n",
    "for key in clusters.keys():\n",
    "    clusters[key] = np.array(clusters[key])\n",
    "colors = cm.rainbow(np.linspace(0, 1, len(clust_indices)))"
   ]
  },
  {
   "cell_type": "code",
   "execution_count": 31,
   "metadata": {},
   "outputs": [
    {
     "data": {
      "image/png": "[encoded data removed]",
      "text/plain": [
       "<Figure size 1000x1000 with 1 Axes>"
      ]
     },
     "metadata": {},
     "output_type": "display_data"
    }
   ],
   "source": [
    "plt.figure(figsize=(10,10))\n",
    "for ind, color in zip(clust_indices, colors):\n",
    "    x = clusters[ind][:,0]\n",
    "    y = clusters[ind][:,1]\n",
    "    plt.scatter(x, y, color=color)\n",
    "    \n",
    "    centroid = centroids_embeddings[ind]\n",
    "    plt.scatter(centroid[0],centroid[1], color=color, marker='x', s=100)\n",
    "\n",
    "plt.show()"
   ]
  }
 ],
 "metadata": {
  "kernelspec": {
   "display_name": "Python 3 (ipykernel)",
   "language": "python",
   "name": "python3"
  },
  "language_info": {
   "codemirror_mode": {
    "name": "ipython",
    "version": 3
   },
   "file_extension": ".py",
   "mimetype": "text/x-python",
   "name": "python",
   "nbconvert_exporter": "python",
   "pygments_lexer": "ipython3",
   "version": "3.10.6"
  }
 },
 "nbformat": 4,
 "nbformat_minor": 2
}
