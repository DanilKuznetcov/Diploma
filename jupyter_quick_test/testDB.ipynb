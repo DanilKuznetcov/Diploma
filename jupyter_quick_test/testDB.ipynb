{
 "cells": [
  {
   "cell_type": "markdown",
   "id": "a1a98cf6",
   "metadata": {},
   "source": [
    "### Get VK api Post"
   ]
  },
  {
   "cell_type": "code",
   "execution_count": 28,
   "id": "4d82b303",
   "metadata": {},
   "outputs": [],
   "source": [
    "import requests\n",
    "from datetime import datetime, timedelta\n",
    "import time\n",
    "import pandas as pd\n",
    "import matplotlib.pyplot as plt\n",
    "import numpy as np"
   ]
  },
  {
   "cell_type": "code",
   "execution_count": 30,
   "id": "453fbe61",
   "metadata": {},
   "outputs": [],
   "source": [
    "ACCESS_TOKEN = '5816254b5816254b5816254b7558614893558165816254b386fa62025fb312bc944f6cc'\n",
    "APP_ID = 7826904\n",
    "API_URL = 'https://api.vk.com/method'\n",
    "V = '5.91'"
   ]
  },
  {
   "cell_type": "code",
   "execution_count": 42,
   "id": "e4259ffa",
   "metadata": {},
   "outputs": [
    {
     "data": {
      "text/plain": [
       "{'error': {'error_code': 28,\n",
       "  'error_msg': 'Application authorization failed: method is unavailable with service token.',\n",
       "  'request_params': [{'key': 'owner_id', 'value': '90688576'},\n",
       "   {'key': 'comment_id', 'value': '2183'},\n",
       "   {'key': 'v', 'value': '5.91'},\n",
       "   {'key': 'method', 'value': 'wall.getComment'},\n",
       "   {'key': 'oauth', 'value': '1'}]}}"
      ]
     },
     "execution_count": 42,
     "metadata": {},
     "output_type": "execute_result"
    }
   ],
   "source": [
    "def get_comment(owner_id, comment_id):\n",
    "    api_method = f'{API_URL}/wall.getComment'\n",
    "    resp = requests.get(api_method, params={\n",
    "        'access_token': ACCESS_TOKEN,\n",
    "        'owner_id': f'{owner_id}',\n",
    "        'comment_id': f'{comment_id}',\n",
    "        'v': V\n",
    "    })\n",
    "    data = resp.json()\n",
    "#     data = resp.json()['response'][0]\n",
    "    return data\n",
    "post = get_comment(90688576, 2183)\n",
    "post"
   ]
  },
  {
   "cell_type": "code",
   "execution_count": 39,
   "id": "a78f8878",
   "metadata": {
    "scrolled": true
   },
   "outputs": [
    {
     "data": {
      "text/plain": [
       "{'id': 51555,\n",
       " 'from_id': 96331273,\n",
       " 'owner_id': 96331273,\n",
       " 'date': 1660203727,\n",
       " 'post_type': 'post',\n",
       " 'text': 'Главное к этому часу:\\n\\n▪️Около 2,5 тысяч жителей Бердянска в Запорожской области получили паспорта РФ, еще 5 тысяч человек ожидают получения гражданства, сообщил начальник миграционной службы УВД Бердянска Василий Бараненко\\n\\n▪️В Пхеньяне называли причиной вспышки COVID-19 «странный предмет» на границе с Южной Кореей. Сестра Ким Чен Ына Ким Ё Чжон пообещала уничтожить власти Южной Кореи, если они будут «провоцировать» проникновение вируса в ее страну.\\n\\n▪️Зеленский: Чем мощнее будет наше оружие и чем больше будет дальность его применения, тем быстрее закончится эта жестокая война\\n\\n▪️Одно судно с зерном не смогло выйти из украинского Черноморска из-за погодных условий, сообщили в Минобороны Турции...',\n",
       " 'attachments': [{'type': 'photo',\n",
       "   'photo': {'album_id': -7,\n",
       "    'date': 1660203712,\n",
       "    'id': 457294589,\n",
       "    'owner_id': 96331273,\n",
       "    'access_key': '8af6387638aa5708fd',\n",
       "    'post_id': 51555,\n",
       "    'sizes': [{'height': 47,\n",
       "      'url': 'https://sun9-64.userapi.com/impg/kovlx-Etya-tzUHUF0O8VPEHWvQLacO_GpU-ng/zd58Tkf7Sjk.jpg?size=75x47&quality=95&sign=66ce79fa7328d29e9086fbcde28deb34&c_uniq_tag=DF9CO8rDfLLzbXpbA2QTv6V72KjzCoBfqLt0iuY4AjQ&type=album',\n",
       "      'type': 's',\n",
       "      'width': 75},\n",
       "     {'height': 81,\n",
       "      'url': 'https://sun9-64.userapi.com/impg/kovlx-Etya-tzUHUF0O8VPEHWvQLacO_GpU-ng/zd58Tkf7Sjk.jpg?size=130x81&quality=95&sign=4c7f274657a23bb448ed761d22ba49b4&c_uniq_tag=5OWVqoyxuhS5RAMKJOI7V5Qnn8e9X9PT987nZGuJ0VM&type=album',\n",
       "      'type': 'm',\n",
       "      'width': 130},\n",
       "     {'height': 378,\n",
       "      'url': 'https://sun9-64.userapi.com/impg/kovlx-Etya-tzUHUF0O8VPEHWvQLacO_GpU-ng/zd58Tkf7Sjk.jpg?size=604x378&quality=95&sign=361fd9b06809c7f336fd2a374fc0e5c0&c_uniq_tag=vTR93QDQ2QL59mMmUX-ECjJzTqb2Gps2mG4Uf7-RaR8&type=album',\n",
       "      'type': 'x',\n",
       "      'width': 604},\n",
       "     {'height': 505,\n",
       "      'url': 'https://sun9-64.userapi.com/impg/kovlx-Etya-tzUHUF0O8VPEHWvQLacO_GpU-ng/zd58Tkf7Sjk.jpg?size=807x505&quality=95&sign=6e8e143930beba9765092cbe5d15b398&c_uniq_tag=BrXr5raoDJTgrUKWWxl4LLJItbUgZR7Y4ixoFuqtRdw&type=album',\n",
       "      'type': 'y',\n",
       "      'width': 807},\n",
       "     {'height': 676,\n",
       "      'url': 'https://sun9-64.userapi.com/impg/kovlx-Etya-tzUHUF0O8VPEHWvQLacO_GpU-ng/zd58Tkf7Sjk.jpg?size=1080x676&quality=95&sign=6a7eca1c299e757babef187b86743460&c_uniq_tag=NPuKvG-37QbY4TYl2dnSMSfCg99WZH6n8DlmvSjfAyY&type=album',\n",
       "      'type': 'z',\n",
       "      'width': 1080},\n",
       "     {'height': 87,\n",
       "      'url': 'https://sun9-64.userapi.com/impg/kovlx-Etya-tzUHUF0O8VPEHWvQLacO_GpU-ng/zd58Tkf7Sjk.jpg?size=130x87&quality=95&crop=35,0,1010,676&sign=073afe49204f7833b892f8e96b3068c8&c_uniq_tag=X7OnoSHyMBRzT3ngrHSswUZIJZ34d3IMDTT9MoHU75I&type=album',\n",
       "      'type': 'o',\n",
       "      'width': 130},\n",
       "     {'height': 133,\n",
       "      'url': 'https://sun9-64.userapi.com/impg/kovlx-Etya-tzUHUF0O8VPEHWvQLacO_GpU-ng/zd58Tkf7Sjk.jpg?size=200x133&quality=95&crop=31,0,1017,676&sign=60c2ecbf11678a4f63e5ce21dd4a54ef&c_uniq_tag=H8ZS677RTFAeJ9XTouZD1v9QQgJOkxIDpOfWLB8tLws&type=album',\n",
       "      'type': 'p',\n",
       "      'width': 200},\n",
       "     {'height': 213,\n",
       "      'url': 'https://sun9-64.userapi.com/impg/kovlx-Etya-tzUHUF0O8VPEHWvQLacO_GpU-ng/zd58Tkf7Sjk.jpg?size=320x213&quality=95&crop=32,0,1016,676&sign=c361045a00e5176ca8d6adca71e08e36&c_uniq_tag=azbCcxL3WjSSmb0-zj9rrdbuWu-uvbzjGzCreodT168&type=album',\n",
       "      'type': 'q',\n",
       "      'width': 320},\n",
       "     {'height': 340,\n",
       "      'url': 'https://sun9-64.userapi.com/impg/kovlx-Etya-tzUHUF0O8VPEHWvQLacO_GpU-ng/zd58Tkf7Sjk.jpg?size=510x340&quality=95&crop=33,0,1014,676&sign=453212b0c352b97ce4357835a7e55396&c_uniq_tag=0zTw72px1WbRqwQsW3pRHpWH6BGkNw6L_9ejq75VDuc&type=album',\n",
       "      'type': 'r',\n",
       "      'width': 510}],\n",
       "    'text': ''}}],\n",
       " 'comments': {'count': 0},\n",
       " 'likes': {'can_like': 0, 'count': 1, 'user_likes': 0},\n",
       " 'reposts': {'count': 0},\n",
       " 'views': {'count': 8},\n",
       " 'hash': 'k3wNwnVFLOU-tz6vFA'}"
      ]
     },
     "execution_count": 39,
     "metadata": {},
     "output_type": "execute_result"
    }
   ],
   "source": [
    "def get_post(wall_id, post_id):\n",
    "    api_method = f'{API_URL}/wall.getById'\n",
    "    resp = requests.get(api_method, params={\n",
    "        'access_token': ACCESS_TOKEN,\n",
    "        'posts': f'{wall_id}_{post_id}',\n",
    "        'v': V\n",
    "    })\n",
    "    data = resp.json()['response'][0]\n",
    "    return data\n",
    "post = get_post(96331273, 51555)\n",
    "post"
   ]
  },
  {
   "cell_type": "markdown",
   "id": "bc12f18f",
   "metadata": {},
   "source": [
    "### Check mysql_connection"
   ]
  },
  {
   "cell_type": "code",
   "execution_count": 14,
   "id": "872bbe25",
   "metadata": {},
   "outputs": [
    {
     "name": "stdout",
     "output_type": "stream",
     "text": [
      "<mysql.connector.connection_cext.CMySQLConnection object at 0x7f9db0b6a070>\n"
     ]
    }
   ],
   "source": [
    "import mysql.connector\n",
    "\n",
    "client = mysql.connector.connect(\n",
    "  host=\"localhost\",\n",
    "  user=\"danil\",\n",
    "  password=\"24092022\"\n",
    ")\n",
    "\n",
    "#             host=constants.db_host,\n",
    "#             user=constants.db_user,\n",
    "#             password=constants.db_password\n",
    "\n",
    "print(client)"
   ]
  },
  {
   "cell_type": "markdown",
   "id": "688f70eb",
   "metadata": {},
   "source": [
    "### Создать базу данных"
   ]
  },
  {
   "cell_type": "code",
   "execution_count": 15,
   "id": "095680bb",
   "metadata": {},
   "outputs": [],
   "source": [
    "mycursor = client.cursor()\n",
    "mycursor.execute(\"CREATE DATABASE IF NOT EXISTS diplom\")\n",
    "mycursor.execute(\"USE diplom\")"
   ]
  },
  {
   "cell_type": "markdown",
   "id": "5c2bb53a",
   "metadata": {},
   "source": [
    "### Создать таблицу постов"
   ]
  },
  {
   "cell_type": "code",
   "execution_count": 6,
   "id": "5100bd26",
   "metadata": {
    "scrolled": true
   },
   "outputs": [
    {
     "data": {
      "text/plain": [
       "[('ID', b'varchar(20)', 'NO', 'PRI', None, ''),\n",
       " ('date', b'datetime', 'YES', '', None, ''),\n",
       " ('text', b'varchar(4000)', 'YES', '', None, ''),\n",
       " ('count_comments', b'int', 'YES', '', None, ''),\n",
       " ('count_likes', b'int', 'YES', '', None, ''),\n",
       " ('count_reporsts', b'int', 'YES', '', None, ''),\n",
       " ('count_views', b'int', 'YES', '', None, '')]"
      ]
     },
     "execution_count": 6,
     "metadata": {},
     "output_type": "execute_result"
    }
   ],
   "source": [
    "# mycursor.execute(\"drop table Posts\")\n",
    "mycursor.execute(\"\"\"\n",
    "CREATE TABLE IF NOT EXISTS Posts (\n",
    "    ID VARCHAR(20) PRIMARY KEY,\n",
    "    date DATETIME,\n",
    "    text VARCHAR(4000),\n",
    "    count_comments INT,\n",
    "    count_likes INT,\n",
    "    count_reporsts INT,\n",
    "    count_views INT\n",
    ")\"\"\")\n",
    "mycursor.execute(\"desc Posts\")\n",
    "mycursor.fetchall()"
   ]
  },
  {
   "cell_type": "markdown",
   "id": "9b891d86",
   "metadata": {},
   "source": [
    "### Вставить пост в таблицу"
   ]
  },
  {
   "cell_type": "code",
   "execution_count": 7,
   "id": "e3b449e0",
   "metadata": {
    "scrolled": true
   },
   "outputs": [],
   "source": [
    "insert = \"INSERT INTO Posts VALUES (%s, FROM_UNIXTIME(%s), %s, %s, %s, %s, %s)\"\n",
    "values = [(90688576_2227, 1462812355, \"Brutus\", 1, 1, 1, 1)]\n",
    "    \n",
    "mycursor.executemany(insert, values)\n",
    "\n",
    "client.commit()"
   ]
  },
  {
   "cell_type": "code",
   "execution_count": 8,
   "id": "17af1a2b",
   "metadata": {},
   "outputs": [],
   "source": [
    "def insert_post(post):\n",
    "    insert = \"INSERT IGNORE INTO Posts VALUES (%s, FROM_UNIXTIME(%s), %s, %s, %s, %s, %s)\"\n",
    "    \n",
    "    values = [f\"{post['owner_id']}_{post['id']}\", post['date'], post['text'], \n",
    "               post['comments']['count'], post['likes']['count'], \n",
    "               post['reposts']['count'], \n",
    "               post['views']['count'] if 'views' in post else None]\n",
    "    \n",
    "    mycursor.execute(insert, values)\n",
    "\n",
    "insert_post(post)\n",
    "#f\"{post['owner_id']}_{post['id']}\""
   ]
  },
  {
   "cell_type": "code",
   "execution_count": 9,
   "id": "bd4b5c2f",
   "metadata": {},
   "outputs": [
    {
     "data": {
      "text/plain": [
       "('90688576_2227', 1462812355, '', 0, 2, 0, None)"
      ]
     },
     "execution_count": 9,
     "metadata": {},
     "output_type": "execute_result"
    }
   ],
   "source": [
    "(f\"{post['owner_id']}_{post['id']}\", post['date'], post['text'], post['comments']['count'], post['likes']['count'], post['reposts']['count'], post['views']['count'] if 'views' in post else None)"
   ]
  },
  {
   "cell_type": "code",
   "execution_count": 12,
   "id": "3f1c5cca",
   "metadata": {},
   "outputs": [
    {
     "data": {
      "text/plain": [
       "False"
      ]
     },
     "execution_count": 12,
     "metadata": {},
     "output_type": "execute_result"
    }
   ],
   "source": [
    "mycursor.close()"
   ]
  },
  {
   "cell_type": "markdown",
   "id": "a12d6ccf",
   "metadata": {},
   "source": [
    "### Тоже самое для комментов. 1) Найти все не прокомментированные "
   ]
  },
  {
   "cell_type": "code",
   "execution_count": null,
   "id": "2a63aa9e",
   "metadata": {},
   "outputs": [],
   "source": []
  },
  {
   "cell_type": "code",
   "execution_count": null,
   "id": "954d3488",
   "metadata": {},
   "outputs": [],
   "source": []
  }
 ],
 "metadata": {
  "kernelspec": {
   "display_name": "Python 3 (ipykernel)",
   "language": "python",
   "name": "python3"
  },
  "language_info": {
   "codemirror_mode": {
    "name": "ipython",
    "version": 3
   },
   "file_extension": ".py",
   "mimetype": "text/x-python",
   "name": "python",
   "nbconvert_exporter": "python",
   "pygments_lexer": "ipython3",
   "version": "3.8.10"
  }
 },
 "nbformat": 4,
 "nbformat_minor": 5
}
